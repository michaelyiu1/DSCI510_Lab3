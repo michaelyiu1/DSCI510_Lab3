{
 "cells": [
  {
   "cell_type": "markdown",
   "id": "a38b6259",
   "metadata": {},
   "source": [
    "# Lab3\n",
    "---\n",
    "DSCI 510 (Hermjakob), Spring 2025, USC\n",
    "\n",
    "Hello and welcome to Lab3!\n",
    "\n",
    "__Guidelines:__\n",
    "\n",
    "- Please write and submit the programs below by the deadline: Monday, February 10, at 6:00pm Pacific time\n",
    "\n",
    "- You must complete the assignments individually. If you have trouble completing the assignment, please let the teaching assistant (TA) know, during the lab or his office hours. He will help and guide you, but he will not write code for you and no one else should :) !!!  \n",
    "\n",
    "- You have to fill in the code in this notebook and upload it back to Brightspace for submission. Please remember to rename your file as \"Lab3_[YOUR FIRSTNAME]_[YOUR LASTNAME].ipynb\" (e.g. Lab3_George_Washington.ipynb).\n",
    "\n",
    "- The open tests for Q1 and the Bonus Question use data files that you can download from Brightspace and place in the same directory as this notebook.\n",
    "\n",
    "- You may look up resources online like Python Docs and Stackoverflow. You may look up topics, but not the questions themselves.\n",
    "\n",
    "- For the Lab3 assignments, you may __not__ use ___pandas___ and similar libraries. We'll get to pandas later this class."
   ]
  },
  {
   "cell_type": "markdown",
   "id": "9df2a8e5",
   "metadata": {},
   "source": [
    "# Q1. [10 points]\n",
    "\n",
    "__Auto-grader__\n",
    "\n",
    "We have a dataset of students containing their names and scores for <b>4</b> assignments, with scores ranging from 0-100 each. To compute the grade, we drop the lowest assignment score for each student and compute the <b>average</b> of their top <b>3</b> assignment scores and assign letter grades based on the average. The letter grade ranges are as below:\n",
    "\n",
    "```\n",
    "92 and above = A\n",
    "88 – 92 = A-\n",
    "85 – 88 = B+\n",
    "80 – 85 = B \n",
    "78 – 80 = B-\n",
    "75 – 78 = C+\n",
    "70 – 75 = C\n",
    "67 – 70 = C-\n",
    "65 – 67 = D\n",
    "0  - 65 = F\n",
    "```\n",
    "\n",
    "__Note:__ For border line scores, assign the better grade, e.g. 92 is an A, 85 is a B+.\n",
    "\n",
    "Write a Python program to automate the grading process. Use the _student-scores.csv_ file to read the names and scores of the students and write the result file with letter grades added to _student-scores-and-grades.csv_.\n",
    "\n",
    "__Input:__ read data from input_file_name<br>\n",
    "__Output:__ write augmented data to output_file_name<br>\n",
    "\n",
    "__Example:__<br>\n",
    "If the input file _student-scores.csv_ contains:\n",
    "```\n",
    "John,75,86,99,90\n",
    "Mary,99,77,100,21\n",
    "```\n",
    "then the output file _student-scores-and-grades.csv_ should contain:\n",
    "```\n",
    "John,75,86,99,90,A-\n",
    "Mary,99,77,100,21,A\n",
    "```"
   ]
  },
  {
   "cell_type": "code",
   "execution_count": null,
   "id": "069b5f43",
   "metadata": {},
   "outputs": [],
   "source": [
    "def auto_grader(input_file_name, output_file_name) -> None:\n",
    "    pass  # replace this line with your code"
   ]
  },
  {
   "cell_type": "code",
   "execution_count": null,
   "id": "74534e61",
   "metadata": {},
   "outputs": [],
   "source": [
    "# open test\n",
    "auto_grader('student-scores.csv','student-scores-and-grades.csv')"
   ]
  },
  {
   "cell_type": "code",
   "execution_count": null,
   "id": "6c0b9b6c",
   "metadata": {},
   "outputs": [],
   "source": [
    "# add private tests in this box"
   ]
  },
  {
   "attachments": {
    "keyboard.png": {
     "image/png": "[encoded data removed]"
    }
   },
   "cell_type": "markdown",
   "id": "6ebd3bb9",
   "metadata": {},
   "source": [
    "# Q2. [10 points]\n",
    "\n",
    "__Keyboard Row__\n",
    "\n",
    "Given a __list of words__ of 0 or more letters a-z (both lower and upper case), return the subset of words that can be typed using a single row on an American keyboard as shown in the image below.\n",
    "\n",
    "![keyboard.png](attachment:keyboard.png)\n",
    "\n",
    "On the American keyboard:\n",
    "* the first row consists of the characters __\"qwertyuiop\"__\n",
    "* the second row consists of the characters __\"asdfghjkl\"__\n",
    "* the third row consists of the characters __\"zxcvbnm\"__\n",
    "\n",
    "__Input type:__ list of strings<br>\n",
    "__Output type:__ list of strings\n",
    "\n",
    "__Example:__\n",
    "* [\"Alaska\", \"banana\", \"query\"] → [\"Alaska\", \"query\"]\n",
    "* \"Alaska\" is retained, because \"a\", \"l\", \"s\", \"k\" are all on the same keyboard row (second letter row).\n",
    "* \"banana\" is left out, because \"b\" and \"a\" are on different keyboard rows."
   ]
  },
  {
   "cell_type": "code",
   "execution_count": null,
   "id": "3a878780",
   "metadata": {},
   "outputs": [],
   "source": [
    "# Use this cell for your solution\n",
    "def find_words(words: list) -> list:\n",
    "    return [] # replace this line with your code"
   ]
  },
  {
   "cell_type": "code",
   "execution_count": null,
   "id": "47eed0e4",
   "metadata": {},
   "outputs": [],
   "source": [
    "#open test\n",
    "print(find_words([\"Alaska\", \"banana\", \"query\"])) "
   ]
  },
  {
   "cell_type": "code",
   "execution_count": null,
   "id": "cec4b12c",
   "metadata": {},
   "outputs": [],
   "source": [
    "# add private tests in this box"
   ]
  },
  {
   "cell_type": "markdown",
   "id": "ddc525d5",
   "metadata": {},
   "source": [
    "# Q3. [10 points]\n",
    "\n",
    "__Subdomain visit count__\n",
    "\n",
    "A website domain such as __classes.usc.edu__ consists of various subdomains. At the top level, we have __edu__, at the next level we have __usc.edu__ and at the lowest level __classes.usc.edu__. When we visit a domain like _classes.usc.edu_, we also visit the parent domains _usc.edu_ and _edu_ implicitly.\n",
    "\n",
    "A count-paired domain is a domain that has one of the two formats of tuple (count, \"d1.d2.d3\") or (count, \"d1.d2\") where _count_ is the number of visits to the domain and _d1.d2_ or _d1.d2.d3_ is the domain itself.\n",
    "\n",
    "* For example, (9001, \"classes.usc.edu\") is a count-paired domain that indicates that _classes.usc.edu_ was visited 9001 times.\n",
    "\n",
    "Given a list of count-paired domains, return a sorted list of the count-paired domains of each subdomain in the input, including the full domain.\n",
    "The list should be sorted based on the count (lower counts first) and domain (in alphabetic order, in case some domains share the same count)\n",
    "\n",
    "__Input:__ list of tuples (count-paired domains)<br>\n",
    "__Output:__ list of tuples (count-paired domains of each subdomain in the input)\n",
    "\n",
    "__Example 1:__<br>\n",
    "Input:  [(9001, 'classes.usc.edu')]<br>\n",
    "Output: [(9001, 'classes.usc.edu'), (9001, 'edu'), (9001, 'usc.edu')]\n",
    "<p>\n",
    "    \n",
    "__Example 2:__<br>\n",
    "Input: [(200, 'google.mail.com'), (50, 'yahoo.com'), (1, 'intel.mail.com'), (5, 'wiki.org')]<br>\n",
    "Output: [(1, 'intel.mail.com'), (5, 'org'), (5, 'wiki.org'), (50, 'yahoo.com'), (200, 'google.mail.com'), (201, 'mail.com'), (251, 'com')]"
   ]
  },
  {
   "cell_type": "code",
   "execution_count": null,
   "id": "bbbdad01",
   "metadata": {},
   "outputs": [],
   "source": [
    "# Use this cell for your solution\n",
    "def subdomain_count(cp_domains: list) -> list:\n",
    "    return []  # replace this line with your code "
   ]
  },
  {
   "cell_type": "code",
   "execution_count": null,
   "id": "1e8effeb",
   "metadata": {},
   "outputs": [],
   "source": [
    "# open tests\n",
    "print(subdomain_count([(9001, \"classes.usc.edu\")]))\n",
    "print(subdomain_count([(200, \"google.mail.com\"), (50, \"yahoo.com\"), (1, \"intel.mail.com\"), (5, \"wiki.org\")]))  "
   ]
  },
  {
   "cell_type": "code",
   "execution_count": null,
   "id": "19d4a4c3",
   "metadata": {},
   "outputs": [],
   "source": [
    "# add private tests in this box"
   ]
  },
  {
   "cell_type": "markdown",
   "id": "200c3083",
   "metadata": {},
   "source": [
    "# Bonus Question [5 points]\n",
    "\n",
    "__Advanced subdomain visit count__\n",
    "\n",
    "Given a web access file such as __web-access.txt__ that logs user access in the following _user domain_ format:\n",
    "```\n",
    "Anne cs.usc.edu\n",
    "Mary google.com\n",
    "```\n",
    "Note that this _web-access.txt_ can have duplicates, reflecting multiple visits of a user to the same website.\n",
    "\n",
    "Your task is to print a web-user report in the following format (the actual print-out will have more rows):\n",
    "```\n",
    "com                   54  Jack: 12  Bart: 9  Anne: 8\n",
    "google.com            42  Jack: 10  Anne: 8  Mary: 8\n",
    "translate.google.com  26  Jack: 10  Mary: 4  Jane: 4\n",
    "scholar.usc.edu        2  Mike:  1  Mary: 1\n",
    "```\n",
    "The first column is the subdomain (sorted by count, highest first).<br>\n",
    "The second column is the subdomain's access count.<br>\n",
    "These two columns are followed by the top three users (sorted by user count in descending order).<br>"
   ]
  },
  {
   "cell_type": "code",
   "execution_count": null,
   "id": "29948b70",
   "metadata": {},
   "outputs": [],
   "source": [
    "# Use this cell for your solution\n",
    "def print_subdomain_counts(web_access_filename: str) -> None:\n",
    "    pass # replace this line with your code"
   ]
  },
  {
   "cell_type": "code",
   "execution_count": null,
   "id": "36ce5ea0",
   "metadata": {},
   "outputs": [],
   "source": [
    "# open test\n",
    "print_subdomain_counts('web-access.txt')"
   ]
  },
  {
   "cell_type": "code",
   "execution_count": null,
   "id": "06ff190e",
   "metadata": {},
   "outputs": [],
   "source": [
    "# add private tests in this box"
   ]
  }
 ],
 "metadata": {
  "kernelspec": {
   "display_name": "Python 3 (ipykernel)",
   "language": "python",
   "name": "python3"
  },
  "language_info": {
   "codemirror_mode": {
    "name": "ipython",
    "version": 3
   },
   "file_extension": ".py",
   "mimetype": "text/x-python",
   "name": "python",
   "nbconvert_exporter": "python",
   "pygments_lexer": "ipython3",
   "version": "3.11.5"
  },
  "vscode": {
   "interpreter": {
    "hash": "2befdfe02518c957e8c1c49611d30f3c1e6512f9acbd292cce6a0c17a6ac95c0"
   }
  }
 },
 "nbformat": 4,
 "nbformat_minor": 5
}
